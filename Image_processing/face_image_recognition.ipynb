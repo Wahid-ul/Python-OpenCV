{
 "cells": [
  {
   "cell_type": "code",
   "execution_count": 1,
   "id": "4888668b",
   "metadata": {},
   "outputs": [
    {
     "name": "stdout",
     "output_type": "stream",
     "text": [
      "Requirement already satisfied: deepface in c:\\users\\awahi\\anaconda3\\envs\\tensorflow\\lib\\site-packages (0.0.68)\n",
      "Requirement already satisfied: mtcnn>=0.1.0 in c:\\users\\awahi\\anaconda3\\envs\\tensorflow\\lib\\site-packages (from deepface) (0.1.1)\n",
      "Requirement already satisfied: numpy>=1.14.0 in c:\\users\\awahi\\anaconda3\\envs\\tensorflow\\lib\\site-packages (from deepface) (1.18.5)\n",
      "Requirement already satisfied: pandas>=0.23.4 in c:\\users\\awahi\\anaconda3\\envs\\tensorflow\\lib\\site-packages (from deepface) (1.3.4)\n",
      "Requirement already satisfied: retina-face>=0.0.1 in c:\\users\\awahi\\anaconda3\\envs\\tensorflow\\lib\\site-packages (from deepface) (0.0.5)\n",
      "Requirement already satisfied: Pillow>=5.2.0 in c:\\users\\awahi\\anaconda3\\envs\\tensorflow\\lib\\site-packages (from deepface) (8.4.0)\n",
      "Requirement already satisfied: opencv-python>=3.4.4 in c:\\users\\awahi\\anaconda3\\envs\\tensorflow\\lib\\site-packages (from deepface) (4.5.4.58)\n",
      "Requirement already satisfied: tqdm>=4.30.0 in c:\\users\\awahi\\anaconda3\\envs\\tensorflow\\lib\\site-packages (from deepface) (4.62.3)\n",
      "Requirement already satisfied: tensorflow>=1.9.0 in c:\\users\\awahi\\anaconda3\\envs\\tensorflow\\lib\\site-packages (from deepface) (2.3.0)\n",
      "Requirement already satisfied: keras>=2.2.0 in c:\\users\\awahi\\anaconda3\\envs\\tensorflow\\lib\\site-packages (from deepface) (2.7.0)\n",
      "Requirement already satisfied: gdown>=3.10.1 in c:\\users\\awahi\\anaconda3\\envs\\tensorflow\\lib\\site-packages (from deepface) (4.2.0)\n",
      "Requirement already satisfied: Flask>=1.1.2 in c:\\users\\awahi\\anaconda3\\envs\\tensorflow\\lib\\site-packages (from deepface) (2.0.2)\n",
      "Requirement already satisfied: Werkzeug>=2.0 in c:\\users\\awahi\\anaconda3\\envs\\tensorflow\\lib\\site-packages (from Flask>=1.1.2->deepface) (2.0.2)\n",
      "Requirement already satisfied: itsdangerous>=2.0 in c:\\users\\awahi\\anaconda3\\envs\\tensorflow\\lib\\site-packages (from Flask>=1.1.2->deepface) (2.0.1)\n",
      "Requirement already satisfied: click>=7.1.2 in c:\\users\\awahi\\anaconda3\\envs\\tensorflow\\lib\\site-packages (from Flask>=1.1.2->deepface) (8.0.1)\n",
      "Requirement already satisfied: Jinja2>=3.0 in c:\\users\\awahi\\anaconda3\\envs\\tensorflow\\lib\\site-packages (from Flask>=1.1.2->deepface) (3.0.1)\n",
      "Requirement already satisfied: colorama in c:\\users\\awahi\\anaconda3\\envs\\tensorflow\\lib\\site-packages (from click>=7.1.2->Flask>=1.1.2->deepface) (0.4.4)\n",
      "Requirement already satisfied: filelock in c:\\users\\awahi\\anaconda3\\envs\\tensorflow\\lib\\site-packages (from gdown>=3.10.1->deepface) (3.4.0)\n",
      "Requirement already satisfied: requests[socks] in c:\\users\\awahi\\anaconda3\\envs\\tensorflow\\lib\\site-packages (from gdown>=3.10.1->deepface) (2.25.1)\n",
      "Requirement already satisfied: six in c:\\users\\awahi\\anaconda3\\envs\\tensorflow\\lib\\site-packages (from gdown>=3.10.1->deepface) (1.16.0)\n",
      "Requirement already satisfied: beautifulsoup4 in c:\\users\\awahi\\anaconda3\\envs\\tensorflow\\lib\\site-packages (from gdown>=3.10.1->deepface) (4.10.0)\n",
      "Requirement already satisfied: MarkupSafe>=2.0 in c:\\users\\awahi\\anaconda3\\envs\\tensorflow\\lib\\site-packages (from Jinja2>=3.0->Flask>=1.1.2->deepface) (2.0.1)\n",
      "Requirement already satisfied: python-dateutil>=2.7.3 in c:\\users\\awahi\\anaconda3\\envs\\tensorflow\\lib\\site-packages (from pandas>=0.23.4->deepface) (2.8.2)\n",
      "Requirement already satisfied: pytz>=2017.3 in c:\\users\\awahi\\anaconda3\\envs\\tensorflow\\lib\\site-packages (from pandas>=0.23.4->deepface) (2021.3)\n",
      "Requirement already satisfied: h5py<2.11.0,>=2.10.0 in c:\\users\\awahi\\anaconda3\\envs\\tensorflow\\lib\\site-packages (from tensorflow>=1.9.0->deepface) (2.10.0)\n",
      "Requirement already satisfied: keras-preprocessing<1.2,>=1.1.1 in c:\\users\\awahi\\anaconda3\\envs\\tensorflow\\lib\\site-packages (from tensorflow>=1.9.0->deepface) (1.1.2)\n",
      "Requirement already satisfied: gast==0.3.3 in c:\\users\\awahi\\anaconda3\\envs\\tensorflow\\lib\\site-packages (from tensorflow>=1.9.0->deepface) (0.3.3)\n",
      "Requirement already satisfied: scipy==1.4.1 in c:\\users\\awahi\\anaconda3\\envs\\tensorflow\\lib\\site-packages (from tensorflow>=1.9.0->deepface) (1.4.1)\n",
      "Requirement already satisfied: tensorboard<3,>=2.3.0 in c:\\users\\awahi\\anaconda3\\envs\\tensorflow\\lib\\site-packages (from tensorflow>=1.9.0->deepface) (2.4.0)\n",
      "Requirement already satisfied: google-pasta>=0.1.8 in c:\\users\\awahi\\anaconda3\\envs\\tensorflow\\lib\\site-packages (from tensorflow>=1.9.0->deepface) (0.2.0)\n",
      "Requirement already satisfied: grpcio>=1.8.6 in c:\\users\\awahi\\anaconda3\\envs\\tensorflow\\lib\\site-packages (from tensorflow>=1.9.0->deepface) (1.36.1)\n",
      "Requirement already satisfied: protobuf>=3.9.2 in c:\\users\\awahi\\anaconda3\\envs\\tensorflow\\lib\\site-packages (from tensorflow>=1.9.0->deepface) (3.17.2)\n",
      "Requirement already satisfied: wrapt>=1.11.1 in c:\\users\\awahi\\anaconda3\\envs\\tensorflow\\lib\\site-packages (from tensorflow>=1.9.0->deepface) (1.12.1)\n",
      "Requirement already satisfied: wheel>=0.26 in c:\\users\\awahi\\anaconda3\\envs\\tensorflow\\lib\\site-packages (from tensorflow>=1.9.0->deepface) (0.36.2)\n",
      "Requirement already satisfied: absl-py>=0.7.0 in c:\\users\\awahi\\anaconda3\\envs\\tensorflow\\lib\\site-packages (from tensorflow>=1.9.0->deepface) (0.13.0)\n",
      "Requirement already satisfied: opt-einsum>=2.3.2 in c:\\users\\awahi\\anaconda3\\envs\\tensorflow\\lib\\site-packages (from tensorflow>=1.9.0->deepface) (3.3.0)\n",
      "Requirement already satisfied: tensorflow-estimator<2.4.0,>=2.3.0 in c:\\users\\awahi\\anaconda3\\envs\\tensorflow\\lib\\site-packages (from tensorflow>=1.9.0->deepface) (2.3.0)\n",
      "Requirement already satisfied: termcolor>=1.1.0 in c:\\users\\awahi\\anaconda3\\envs\\tensorflow\\lib\\site-packages (from tensorflow>=1.9.0->deepface) (1.1.0)\n",
      "Requirement already satisfied: astunparse==1.6.3 in c:\\users\\awahi\\anaconda3\\envs\\tensorflow\\lib\\site-packages (from tensorflow>=1.9.0->deepface) (1.6.3)\n",
      "Requirement already satisfied: tensorboard-plugin-wit>=1.6.0 in c:\\users\\awahi\\anaconda3\\envs\\tensorflow\\lib\\site-packages (from tensorboard<3,>=2.3.0->tensorflow>=1.9.0->deepface) (1.6.0)\n",
      "Requirement already satisfied: setuptools>=41.0.0 in c:\\users\\awahi\\anaconda3\\envs\\tensorflow\\lib\\site-packages (from tensorboard<3,>=2.3.0->tensorflow>=1.9.0->deepface) (52.0.0.post20210125)\n",
      "Requirement already satisfied: google-auth-oauthlib<0.5,>=0.4.1 in c:\\users\\awahi\\anaconda3\\envs\\tensorflow\\lib\\site-packages (from tensorboard<3,>=2.3.0->tensorflow>=1.9.0->deepface) (0.4.4)\n",
      "Requirement already satisfied: markdown>=2.6.8 in c:\\users\\awahi\\anaconda3\\envs\\tensorflow\\lib\\site-packages (from tensorboard<3,>=2.3.0->tensorflow>=1.9.0->deepface) (3.3.4)\n",
      "Requirement already satisfied: google-auth<2,>=1.6.3 in c:\\users\\awahi\\anaconda3\\envs\\tensorflow\\lib\\site-packages (from tensorboard<3,>=2.3.0->tensorflow>=1.9.0->deepface) (1.33.0)\n",
      "Requirement already satisfied: rsa<5,>=3.1.4 in c:\\users\\awahi\\anaconda3\\envs\\tensorflow\\lib\\site-packages (from google-auth<2,>=1.6.3->tensorboard<3,>=2.3.0->tensorflow>=1.9.0->deepface) (4.7.2)\n",
      "Requirement already satisfied: pyasn1-modules>=0.2.1 in c:\\users\\awahi\\anaconda3\\envs\\tensorflow\\lib\\site-packages (from google-auth<2,>=1.6.3->tensorboard<3,>=2.3.0->tensorflow>=1.9.0->deepface) (0.2.8)\n",
      "Requirement already satisfied: cachetools<5.0,>=2.0.0 in c:\\users\\awahi\\anaconda3\\envs\\tensorflow\\lib\\site-packages (from google-auth<2,>=1.6.3->tensorboard<3,>=2.3.0->tensorflow>=1.9.0->deepface) (4.2.2)\n",
      "Requirement already satisfied: requests-oauthlib>=0.7.0 in c:\\users\\awahi\\anaconda3\\envs\\tensorflow\\lib\\site-packages (from google-auth-oauthlib<0.5,>=0.4.1->tensorboard<3,>=2.3.0->tensorflow>=1.9.0->deepface) (1.3.0)\n",
      "Requirement already satisfied: pyasn1<0.5.0,>=0.4.6 in c:\\users\\awahi\\anaconda3\\envs\\tensorflow\\lib\\site-packages (from pyasn1-modules>=0.2.1->google-auth<2,>=1.6.3->tensorboard<3,>=2.3.0->tensorflow>=1.9.0->deepface) (0.4.8)\n",
      "Requirement already satisfied: urllib3<1.27,>=1.21.1 in c:\\users\\awahi\\anaconda3\\envs\\tensorflow\\lib\\site-packages (from requests[socks]->gdown>=3.10.1->deepface) (1.26.6)\n",
      "Requirement already satisfied: certifi>=2017.4.17 in c:\\users\\awahi\\anaconda3\\envs\\tensorflow\\lib\\site-packages (from requests[socks]->gdown>=3.10.1->deepface) (2021.10.8)\n",
      "Requirement already satisfied: idna<3,>=2.5 in c:\\users\\awahi\\anaconda3\\envs\\tensorflow\\lib\\site-packages (from requests[socks]->gdown>=3.10.1->deepface) (2.10)\n",
      "Requirement already satisfied: chardet<5,>=3.0.2 in c:\\users\\awahi\\anaconda3\\envs\\tensorflow\\lib\\site-packages (from requests[socks]->gdown>=3.10.1->deepface) (3.0.4)\n",
      "Requirement already satisfied: oauthlib>=3.0.0 in c:\\users\\awahi\\anaconda3\\envs\\tensorflow\\lib\\site-packages (from requests-oauthlib>=0.7.0->google-auth-oauthlib<0.5,>=0.4.1->tensorboard<3,>=2.3.0->tensorflow>=1.9.0->deepface) (3.1.1)\n",
      "Requirement already satisfied: soupsieve>1.2 in c:\\users\\awahi\\anaconda3\\envs\\tensorflow\\lib\\site-packages (from beautifulsoup4->gdown>=3.10.1->deepface) (2.3.1)\n",
      "Requirement already satisfied: PySocks!=1.5.7,>=1.5.6 in c:\\users\\awahi\\anaconda3\\envs\\tensorflow\\lib\\site-packages (from requests[socks]->gdown>=3.10.1->deepface) (1.7.1)\n"
     ]
    }
   ],
   "source": [
    "! pip install deepface"
   ]
  },
  {
   "cell_type": "code",
   "execution_count": 2,
   "id": "f5ff038f",
   "metadata": {},
   "outputs": [],
   "source": [
    "import cv2"
   ]
  },
  {
   "cell_type": "code",
   "execution_count": 3,
   "id": "59793e62",
   "metadata": {},
   "outputs": [],
   "source": [
    "import deepface"
   ]
  },
  {
   "cell_type": "code",
   "execution_count": 4,
   "id": "cc7148a8",
   "metadata": {},
   "outputs": [],
   "source": [
    "import matplotlib.pyplot as plt"
   ]
  },
  {
   "cell_type": "code",
   "execution_count": 5,
   "id": "1d74fa5b",
   "metadata": {},
   "outputs": [],
   "source": [
    "from deepface import DeepFace"
   ]
  },
  {
   "cell_type": "code",
   "execution_count": 6,
   "id": "ecbf6bb1",
   "metadata": {},
   "outputs": [],
   "source": [
    "img=cv2.imread('happy_boy.jpg')"
   ]
  },
  {
   "cell_type": "code",
   "execution_count": 7,
   "id": "ab58a688",
   "metadata": {},
   "outputs": [
    {
     "data": {
      "text/plain": [
       "<matplotlib.image.AxesImage at 0x217d6570730>"
      ]
     },
     "execution_count": 7,
     "metadata": {},
     "output_type": "execute_result"
    }
   ],
   "source": [
    "plt.imshow(img)"
   ]
  },
  {
   "cell_type": "code",
   "execution_count": 8,
   "id": "ef779d35",
   "metadata": {},
   "outputs": [
    {
     "data": {
      "text/plain": [
       "<matplotlib.image.AxesImage at 0x217c6f35f40>"
      ]
     },
     "execution_count": 8,
     "metadata": {},
     "output_type": "execute_result"
    }
   ],
   "source": [
    "plt.imshow(cv2.cvtColor(img,cv2.COLOR_BGR2RGB))"
   ]
  },
  {
   "cell_type": "code",
   "execution_count": null,
   "id": "2cd1d505",
   "metadata": {},
   "outputs": [
    {
     "name": "stdout",
     "output_type": "stream",
     "text": [
      "race_model_single_batch.h5 will be downloaded...\n"
     ]
    },
    {
     "name": "stderr",
     "output_type": "stream",
     "text": [
      "Downloading...\n",
      "From: https://github.com/serengil/deepface_models/releases/download/v1.0/race_model_single_batch.h5\n",
      "To: C:\\Users\\awahi\\.deepface\\weights\\race_model_single_batch.h5\n",
      "  3%|██▏                                                                           | 14.7M/537M [00:20<04:18, 2.02MB/s]"
     ]
    }
   ],
   "source": [
    "predictions=DeepFace.analyze(img)"
   ]
  },
  {
   "cell_type": "code",
   "execution_count": null,
   "id": "28c0b5a1",
   "metadata": {},
   "outputs": [],
   "source": [
    "predictions"
   ]
  },
  {
   "cell_type": "code",
   "execution_count": null,
   "id": "74f0904c",
   "metadata": {},
   "outputs": [],
   "source": [
    "type(predictions)"
   ]
  },
  {
   "cell_type": "code",
   "execution_count": null,
   "id": "a380e8ab",
   "metadata": {},
   "outputs": [],
   "source": []
  }
 ],
 "metadata": {
  "kernelspec": {
   "display_name": "Python 3",
   "language": "python",
   "name": "python3"
  },
  "language_info": {
   "codemirror_mode": {
    "name": "ipython",
    "version": 3
   },
   "file_extension": ".py",
   "mimetype": "text/x-python",
   "name": "python",
   "nbconvert_exporter": "python",
   "pygments_lexer": "ipython3",
   "version": "3.8.11"
  }
 },
 "nbformat": 4,
 "nbformat_minor": 5
}
